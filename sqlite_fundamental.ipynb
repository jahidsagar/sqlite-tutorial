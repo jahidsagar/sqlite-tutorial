{
 "cells": [
  {
   "cell_type": "markdown",
   "id": "8eaadc1e",
   "metadata": {},
   "source": [
    "Import sqlite3 library"
   ]
  },
  {
   "cell_type": "code",
   "execution_count": 2,
   "id": "406621c1",
   "metadata": {},
   "outputs": [],
   "source": [
    "import sqlite3"
   ]
  },
  {
   "cell_type": "markdown",
   "id": "7e3324d3",
   "metadata": {},
   "source": [
    "if the database not exist then it will create, otherwise it will load that db"
   ]
  },
  {
   "cell_type": "code",
   "execution_count": 3,
   "id": "6bb6a4ae",
   "metadata": {},
   "outputs": [],
   "source": [
    "conn = sqlite3.connect('test.db')\n",
    "cursor = conn.cursor()"
   ]
  },
  {
   "cell_type": "markdown",
   "id": "883a436d",
   "metadata": {},
   "source": [
    "Create table if not exist"
   ]
  },
  {
   "cell_type": "code",
   "execution_count": 5,
   "id": "6114674d",
   "metadata": {},
   "outputs": [],
   "source": [
    "cursor.execute('''\n",
    "CREATE TABLE IF NOT EXISTS users (\n",
    "    id INTEGER PRIMARY KEY AUTOINCREMENT,\n",
    "    name TEXT NOT NULL,\n",
    "    age INTEGER,\n",
    "    email TEXT UNIQUE NOT NULL\n",
    ");\n",
    "''')\n",
    "conn.commit()"
   ]
  },
  {
   "cell_type": "markdown",
   "id": "898c08a3",
   "metadata": {},
   "source": [
    "Insert a single user"
   ]
  },
  {
   "cell_type": "code",
   "execution_count": 6,
   "id": "801ba4dc",
   "metadata": {},
   "outputs": [],
   "source": [
    "cursor.execute('''\n",
    "INSERT INTO users (name, age, email) VALUES (?,?,?)\n",
    "''', ('jahid', 25, 'jahidsagar@gmail.com'))\n",
    "conn.commit()"
   ]
  },
  {
   "cell_type": "markdown",
   "id": "c0fb6299",
   "metadata": {},
   "source": [
    "In real life we have a list of users, so based on a list insert data into table."
   ]
  },
  {
   "cell_type": "code",
   "execution_count": 7,
   "id": "ad6dcf66",
   "metadata": {},
   "outputs": [],
   "source": [
    "users = [\n",
    "    ('rahim', 21, 'rahim@gmail.com'),\n",
    "    ('abbas', 27, 'abbas@gmail.com'),\n",
    "    ('sojol', 16, 'sojol@gmail.com')\n",
    "]\n",
    "\n",
    "cursor.executemany('''\n",
    "INSERT INTO USERS (name, age, email) VALUES (?,?,?)\n",
    "''', users)\n",
    "conn.commit()"
   ]
  },
  {
   "cell_type": "markdown",
   "id": "2c29da5c",
   "metadata": {},
   "source": [
    "Get all users from table"
   ]
  },
  {
   "cell_type": "code",
   "execution_count": 8,
   "id": "b4b28033",
   "metadata": {},
   "outputs": [
    {
     "name": "stdout",
     "output_type": "stream",
     "text": [
      "(1, 'jahid', 25, 'jahidsagar@gmail.com')\n",
      "(2, 'rahim', 21, 'rahim@gmail.com')\n",
      "(3, 'abbas', 27, 'abbas@gmail.com')\n",
      "(4, 'sojol', 16, 'sojol@gmail.com')\n"
     ]
    }
   ],
   "source": [
    "cursor.execute('''\n",
    "SELECT * FROM users\n",
    "''')\n",
    "\n",
    "data = cursor.fetchall()\n",
    "for user in data:\n",
    "    print(user)"
   ]
  },
  {
   "cell_type": "markdown",
   "id": "d1b1cb1f",
   "metadata": {},
   "source": [
    "Update user email based on user id, Here we are updating whose user id is 1"
   ]
  },
  {
   "cell_type": "code",
   "execution_count": 9,
   "id": "17fb955b",
   "metadata": {},
   "outputs": [],
   "source": [
    "id = 1\n",
    "new_email = 'jahid@gmail.com'\n",
    "cursor.execute('''\n",
    "UPDATE users\n",
    "SET email = ?\n",
    "WHERE id = ?\n",
    "''', (new_email, id))\n",
    "\n",
    "conn.commit()"
   ]
  },
  {
   "cell_type": "markdown",
   "id": "269e2589",
   "metadata": {},
   "source": [
    "Printing and confirming the update"
   ]
  },
  {
   "cell_type": "code",
   "execution_count": 10,
   "id": "7a691b3a",
   "metadata": {},
   "outputs": [
    {
     "name": "stdout",
     "output_type": "stream",
     "text": [
      "(1, 'jahid', 25, 'jahid@gmail.com')\n",
      "(2, 'rahim', 21, 'rahim@gmail.com')\n",
      "(3, 'abbas', 27, 'abbas@gmail.com')\n",
      "(4, 'sojol', 16, 'sojol@gmail.com')\n"
     ]
    }
   ],
   "source": [
    "cursor.execute('''\n",
    "SELECT * FROM users\n",
    "''')\n",
    "\n",
    "data = cursor.fetchall()\n",
    "for user in data:\n",
    "    print(user)"
   ]
  },
  {
   "cell_type": "markdown",
   "id": "47e7cbc0",
   "metadata": {},
   "source": [
    "Delete user by id"
   ]
  },
  {
   "cell_type": "code",
   "execution_count": 14,
   "id": "fd28ae6a",
   "metadata": {},
   "outputs": [],
   "source": [
    "id_to_delete = 4\n",
    "cursor.execute('''\n",
    "DELETE FROM users\n",
    "WHERE id = ?\n",
    "''', (id_to_delete,))\n",
    "conn.commit()"
   ]
  },
  {
   "cell_type": "code",
   "execution_count": 15,
   "id": "49e12ea8",
   "metadata": {},
   "outputs": [
    {
     "name": "stdout",
     "output_type": "stream",
     "text": [
      "(1, 'jahid', 25, 'jahid@gmail.com')\n",
      "(2, 'rahim', 21, 'rahim@gmail.com')\n",
      "(3, 'abbas', 27, 'abbas@gmail.com')\n"
     ]
    }
   ],
   "source": [
    "cursor.execute('''\n",
    "SELECT * FROM users\n",
    "''')\n",
    "\n",
    "data = cursor.fetchall()\n",
    "for user in data:\n",
    "    print(user)"
   ]
  }
 ],
 "metadata": {
  "kernelspec": {
   "display_name": "cudaEnv",
   "language": "python",
   "name": "python3"
  },
  "language_info": {
   "codemirror_mode": {
    "name": "ipython",
    "version": 3
   },
   "file_extension": ".py",
   "mimetype": "text/x-python",
   "name": "python",
   "nbconvert_exporter": "python",
   "pygments_lexer": "ipython3",
   "version": "3.11.11"
  }
 },
 "nbformat": 4,
 "nbformat_minor": 5
}
