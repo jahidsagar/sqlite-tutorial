{
 "cells": [
  {
   "cell_type": "code",
   "execution_count": 2,
   "id": "7fea5559",
   "metadata": {},
   "outputs": [],
   "source": [
    "import sqlite3"
   ]
  },
  {
   "cell_type": "code",
   "execution_count": 6,
   "id": "a4d2129f",
   "metadata": {},
   "outputs": [],
   "source": [
    "db_name = 'example.db'\n",
    "table_name = 'example_table'"
   ]
  },
  {
   "cell_type": "code",
   "execution_count": 12,
   "id": "3834570a",
   "metadata": {},
   "outputs": [],
   "source": [
    "def create_connection():\n",
    "    \"\"\"CREATE A DATABASE CONNECTION TO A SQLITE DATABASE\"\"\"\n",
    "    conn = None\n",
    "    try:\n",
    "        conn = sqlite3.connect(db_name)\n",
    "        print(f\"Connected to database: {db_name}\")\n",
    "    except sqlite3.Error as e:\n",
    "        print(f\"Sorry could not connect to database: {e}\")\n",
    "    return conn"
   ]
  },
  {
   "cell_type": "code",
   "execution_count": 14,
   "id": "0467c2b3",
   "metadata": {},
   "outputs": [],
   "source": [
    "def create_table(table_name):\n",
    "    \"\"\"CREATE A TABLE IN THE DATABASE\"\"\"\n",
    "    conn = create_connection()\n",
    "    if conn is not None:\n",
    "        try:\n",
    "            cursor = conn.cursor()\n",
    "            cursor.execute(f'''\n",
    "                create table if not exists {table_name}(\n",
    "                    id integer primary key autoincrement,\n",
    "                    name text not null,\n",
    "                    age integer,\n",
    "                    email text unique\n",
    "                );\n",
    "            ''')\n",
    "            conn.commit()\n",
    "            print(f\"Table is crated: {table_name}\")\n",
    "        except sqlite3.Error as e:\n",
    "            print(f\"Sorry could not create table: {e}\")\n",
    "    else:\n",
    "        print(\"Error! Cannot create the database connection.\")\n",
    "\n"
   ]
  },
  {
   "cell_type": "code",
   "execution_count": 17,
   "id": "530f8b8a",
   "metadata": {},
   "outputs": [],
   "source": [
    "def insert_data(table_name, name, age, email):\n",
    "    \"\"\"INSERT DATA INTO THE TABLE\"\"\"\n",
    "    conn = create_connection()\n",
    "    if conn is not None:\n",
    "        try:\n",
    "            cursor = conn.cursor()\n",
    "            cursor.execute(f'''\n",
    "                insert into {table_name} (name, age, email)\n",
    "                values (?, ?, ?);\n",
    "            ''', (name, age, email))\n",
    "            conn.commit()\n",
    "            print(\"Data inserted successfully.\")\n",
    "        except sqlite3.Error as e:\n",
    "            print(f\"Sorry could not insert data: {e}\")\n",
    "    else:\n",
    "        print(\"Error! Cannot create the database connection.\")"
   ]
  },
  {
   "cell_type": "code",
   "execution_count": 18,
   "id": "65835c0b",
   "metadata": {},
   "outputs": [],
   "source": [
    "def get_all_data(table_name):\n",
    "    \"\"\"RETRIEVE ALL DATA FROM THE TABLE\"\"\"\n",
    "    conn = create_connection()\n",
    "    if conn is not None:\n",
    "        try:\n",
    "            cursor = conn.cursor()\n",
    "            cursor.execute(f'select * from {table_name};')\n",
    "            rows = cursor.fetchall()\n",
    "            for row in rows:\n",
    "                print(row)\n",
    "        except sqlite3.Error as e:\n",
    "            print(f\"Sorry could not retrieve data: {e}\")\n",
    "    else:\n",
    "        print(\"Error! Cannot create the database connection.\")"
   ]
  },
  {
   "cell_type": "code",
   "execution_count": 19,
   "id": "5da4abcd",
   "metadata": {},
   "outputs": [],
   "source": [
    "def update_data(table_name, name, age, email):\n",
    "    \"\"\"UPDATE DATA IN THE TABLE\"\"\"\n",
    "    conn = create_connection()\n",
    "    if conn is not None:\n",
    "        try:\n",
    "            cursor = conn.cursor()\n",
    "            cursor.execute(f'''\n",
    "                update {table_name}\n",
    "                set age = ?, email = ?\n",
    "                where name = ?;\n",
    "            ''', (age, email, name))\n",
    "            conn.commit()\n",
    "            print(\"Data updated successfully.\")\n",
    "        except sqlite3.Error as e:\n",
    "            print(f\"Sorry could not update data: {e}\")\n",
    "    else:\n",
    "        print(\"Error! Cannot create the database connection.\")"
   ]
  },
  {
   "cell_type": "code",
   "execution_count": 28,
   "id": "f6c794c8",
   "metadata": {},
   "outputs": [],
   "source": [
    "def get_one(table_name, id):\n",
    "    \"\"\"RETRIEVE A SINGLE RECORD FROM THE TABLE BY ID\"\"\"\n",
    "    conn = create_connection()\n",
    "    if conn is not None:\n",
    "        try:\n",
    "            cursor = conn.cursor()\n",
    "            cursor.execute(f'select * from {table_name} where id = ?;', (id,))\n",
    "            row = cursor.fetchone()\n",
    "            if row:\n",
    "                print(row)\n",
    "            else:\n",
    "                print(\"No record found with that ID.\")\n",
    "        except sqlite3.Error as e:\n",
    "            print(f\"Sorry could not retrieve data: {e}\")\n",
    "    else:\n",
    "        print(\"Error! Cannot create the database connection.\")"
   ]
  },
  {
   "cell_type": "code",
   "execution_count": 21,
   "id": "afde59ce",
   "metadata": {},
   "outputs": [],
   "source": [
    "def delete_data(table_name, id):\n",
    "    \"\"\"DELETE DATA FROM THE TABLE\"\"\"\n",
    "    conn = create_connection()\n",
    "    if conn is not None:\n",
    "        try:\n",
    "            cursor = conn.cursor()\n",
    "            cursor.execute(f'''\n",
    "                delete from {table_name}\n",
    "                where id = ?;\n",
    "            ''', (id,))\n",
    "            conn.commit()\n",
    "            print(\"Data deleted successfully.\")\n",
    "        except sqlite3.Error as e:\n",
    "            print(f\"Sorry could not delete data: {e}\")\n",
    "    else:\n",
    "        print(\"Error! Cannot create the database connection.\")"
   ]
  },
  {
   "cell_type": "code",
   "execution_count": 15,
   "id": "90c7eddf",
   "metadata": {},
   "outputs": [
    {
     "name": "stdout",
     "output_type": "stream",
     "text": [
      "Connected to database: example.db\n",
      "Table is crated: example_table\n"
     ]
    }
   ],
   "source": [
    "create_table(table_name)"
   ]
  },
  {
   "cell_type": "code",
   "execution_count": 22,
   "id": "828565d6",
   "metadata": {},
   "outputs": [
    {
     "name": "stdout",
     "output_type": "stream",
     "text": [
      "Connected to database: example.db\n",
      "Data inserted successfully.\n",
      "Connected to database: example.db\n",
      "Data inserted successfully.\n"
     ]
    }
   ],
   "source": [
    "insert_data(table_name, 'Alice', 30, 'alice@gmail.com')\n",
    "insert_data(table_name, 'Bob', 25, 'bob@gmail.com')"
   ]
  },
  {
   "cell_type": "code",
   "execution_count": 23,
   "id": "b59217b0",
   "metadata": {},
   "outputs": [
    {
     "name": "stdout",
     "output_type": "stream",
     "text": [
      "Connected to database: example.db\n",
      "(1, 'Alice', 30, 'alice@gmail.com')\n",
      "(2, 'Bob', 25, 'bob@gmail.com')\n"
     ]
    }
   ],
   "source": [
    "get_all_data(table_name)"
   ]
  },
  {
   "cell_type": "code",
   "execution_count": 24,
   "id": "5186fd88",
   "metadata": {},
   "outputs": [
    {
     "name": "stdout",
     "output_type": "stream",
     "text": [
      "Connected to database: example.db\n",
      "Data updated successfully.\n",
      "Connected to database: example.db\n",
      "(1, 'Alice', 31, 'alice@alice.com')\n",
      "(2, 'Bob', 25, 'bob@gmail.com')\n"
     ]
    }
   ],
   "source": [
    "update_data(table_name, 'Alice', 31, 'alice@alice.com')\n",
    "get_all_data(table_name)"
   ]
  },
  {
   "cell_type": "code",
   "execution_count": 25,
   "id": "270ecd72",
   "metadata": {},
   "outputs": [
    {
     "name": "stdout",
     "output_type": "stream",
     "text": [
      "Connected to database: example.db\n",
      "Data deleted successfully.\n",
      "Connected to database: example.db\n",
      "(2, 'Bob', 25, 'bob@gmail.com')\n"
     ]
    }
   ],
   "source": [
    "delete_data(table_name, 1)\n",
    "get_all_data(table_name)"
   ]
  },
  {
   "cell_type": "code",
   "execution_count": 26,
   "id": "c6b8d0a3",
   "metadata": {},
   "outputs": [
    {
     "name": "stdout",
     "output_type": "stream",
     "text": [
      "Connected to database: example.db\n",
      "Data inserted successfully.\n"
     ]
    }
   ],
   "source": [
    "insert_data(table_name, 'faf', 25, 'faf@gmail.com')"
   ]
  },
  {
   "cell_type": "code",
   "execution_count": 27,
   "id": "9e44d64d",
   "metadata": {},
   "outputs": [
    {
     "name": "stdout",
     "output_type": "stream",
     "text": [
      "Connected to database: example.db\n",
      "Data inserted successfully.\n",
      "Connected to database: example.db\n",
      "Data inserted successfully.\n",
      "Connected to database: example.db\n",
      "(2, 'Bob', 25, 'bob@gmail.com')\n",
      "(3, 'faf', 25, 'faf@gmail.com')\n",
      "(4, 'Charlie', 28, 'charlie@gmail.com')\n",
      "(5, 'David', 35, 'david@gmail.com')\n"
     ]
    }
   ],
   "source": [
    "data = [\n",
    "    ('Charlie', 28, 'charlie@gmail.com'),\n",
    "    ('David', 35, 'david@gmail.com')\n",
    "]\n",
    "\n",
    "for name, age, email in data:\n",
    "    insert_data(table_name, name, age, email)\n",
    "get_all_data(table_name)"
   ]
  },
  {
   "cell_type": "code",
   "execution_count": 29,
   "id": "ab89015f",
   "metadata": {},
   "outputs": [
    {
     "name": "stdout",
     "output_type": "stream",
     "text": [
      "Connected to database: example.db\n",
      "(2, 'Bob', 25, 'bob@gmail.com')\n"
     ]
    }
   ],
   "source": [
    "get_one(table_name, 2)"
   ]
  },
  {
   "cell_type": "code",
   "execution_count": 33,
   "id": "f422d167",
   "metadata": {},
   "outputs": [],
   "source": [
    "import pandas as pd\n",
    "\n",
    "def get_all_users_df():\n",
    "    conn = create_connection()\n",
    "    df = pd.read_sql_query(f\"SELECT * FROM {table_name}\", conn)\n",
    "    conn.close()\n",
    "    return df"
   ]
  },
  {
   "cell_type": "code",
   "execution_count": 34,
   "id": "873dd610",
   "metadata": {},
   "outputs": [
    {
     "name": "stdout",
     "output_type": "stream",
     "text": [
      "Connected to database: example.db\n"
     ]
    },
    {
     "data": {
      "text/html": [
       "<div>\n",
       "<style scoped>\n",
       "    .dataframe tbody tr th:only-of-type {\n",
       "        vertical-align: middle;\n",
       "    }\n",
       "\n",
       "    .dataframe tbody tr th {\n",
       "        vertical-align: top;\n",
       "    }\n",
       "\n",
       "    .dataframe thead th {\n",
       "        text-align: right;\n",
       "    }\n",
       "</style>\n",
       "<table border=\"1\" class=\"dataframe\">\n",
       "  <thead>\n",
       "    <tr style=\"text-align: right;\">\n",
       "      <th></th>\n",
       "      <th>id</th>\n",
       "      <th>name</th>\n",
       "      <th>age</th>\n",
       "      <th>email</th>\n",
       "    </tr>\n",
       "  </thead>\n",
       "  <tbody>\n",
       "    <tr>\n",
       "      <th>0</th>\n",
       "      <td>2</td>\n",
       "      <td>Bob</td>\n",
       "      <td>25</td>\n",
       "      <td>bob@gmail.com</td>\n",
       "    </tr>\n",
       "    <tr>\n",
       "      <th>1</th>\n",
       "      <td>3</td>\n",
       "      <td>faf</td>\n",
       "      <td>25</td>\n",
       "      <td>faf@gmail.com</td>\n",
       "    </tr>\n",
       "    <tr>\n",
       "      <th>2</th>\n",
       "      <td>4</td>\n",
       "      <td>Charlie</td>\n",
       "      <td>28</td>\n",
       "      <td>charlie@gmail.com</td>\n",
       "    </tr>\n",
       "    <tr>\n",
       "      <th>3</th>\n",
       "      <td>5</td>\n",
       "      <td>David</td>\n",
       "      <td>35</td>\n",
       "      <td>david@gmail.com</td>\n",
       "    </tr>\n",
       "  </tbody>\n",
       "</table>\n",
       "</div>"
      ],
      "text/plain": [
       "   id     name  age              email\n",
       "0   2      Bob   25      bob@gmail.com\n",
       "1   3      faf   25      faf@gmail.com\n",
       "2   4  Charlie   28  charlie@gmail.com\n",
       "3   5    David   35    david@gmail.com"
      ]
     },
     "execution_count": 34,
     "metadata": {},
     "output_type": "execute_result"
    }
   ],
   "source": [
    "df = get_all_users_df()\n",
    "df.head()  # Display the first few rows of the DataFrame"
   ]
  },
  {
   "cell_type": "code",
   "execution_count": 35,
   "id": "6f253e1b",
   "metadata": {},
   "outputs": [
    {
     "name": "stdout",
     "output_type": "stream",
     "text": [
      "Connected to database: example.db\n",
      "Exported to users_export.csv\n"
     ]
    }
   ],
   "source": [
    "def export_users_to_csv(filename=\"users_export.csv\"):\n",
    "    df = get_all_users_df()\n",
    "    df.to_csv(filename, index=False)\n",
    "    print(f\"Exported to {filename}\")\n",
    "\n",
    "# Usage\n",
    "export_users_to_csv()"
   ]
  }
 ],
 "metadata": {
  "kernelspec": {
   "display_name": "cudaEnv",
   "language": "python",
   "name": "python3"
  },
  "language_info": {
   "codemirror_mode": {
    "name": "ipython",
    "version": 3
   },
   "file_extension": ".py",
   "mimetype": "text/x-python",
   "name": "python",
   "nbconvert_exporter": "python",
   "pygments_lexer": "ipython3",
   "version": "3.11.11"
  }
 },
 "nbformat": 4,
 "nbformat_minor": 5
}
